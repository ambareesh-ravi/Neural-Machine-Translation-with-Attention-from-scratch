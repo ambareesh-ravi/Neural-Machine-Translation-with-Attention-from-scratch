{
 "cells": [
  {
   "cell_type": "code",
   "execution_count": null,
   "metadata": {
    "colab": {},
    "colab_type": "code",
    "execution": {
     "iopub.execute_input": "2020-08-23T18:11:23.502781Z",
     "iopub.status.busy": "2020-08-23T18:11:23.502005Z",
     "iopub.status.idle": "2020-08-23T18:11:29.643135Z",
     "shell.execute_reply": "2020-08-23T18:11:29.642015Z"
    },
    "id": "jCBvScTlQHSm",
    "papermill": {
     "duration": 6.176076,
     "end_time": "2020-08-23T18:11:29.643283",
     "exception": false,
     "start_time": "2020-08-23T18:11:23.467207",
     "status": "completed"
    },
    "tags": []
   },
   "outputs": [],
   "source": [
    "import tensorflow as tf\n",
    "from tensorflow.keras.layers import Embedding, GRU, Dense\n",
    "import numpy as np\n",
    "import matplotlib.pyplot as plt\n",
    "from sklearn.model_selection import train_test_split\n",
    "\n",
    "import re, io, os, time\n",
    "import unicodedata"
   ]
  },
  {
   "cell_type": "markdown",
   "metadata": {
    "colab_type": "text",
    "id": "BYbdR5fYi6zq"
   },
   "source": [
    "## Preprocess Dataset"
   ]
  },
  {
   "cell_type": "code",
   "execution_count": null,
   "metadata": {
    "colab": {},
    "colab_type": "code",
    "execution": {
     "iopub.execute_input": "2020-08-23T18:11:29.703666Z",
     "iopub.status.busy": "2020-08-23T18:11:29.703090Z",
     "iopub.status.idle": "2020-08-23T18:11:30.192974Z",
     "shell.execute_reply": "2020-08-23T18:11:30.192290Z"
    },
    "id": "nda7Zay4ROXR",
    "outputId": "87486ae1-e16f-4387-a283-bcbd65aa28d3",
    "papermill": {
     "duration": 0.521821,
     "end_time": "2020-08-23T18:11:30.193101",
     "exception": false,
     "start_time": "2020-08-23T18:11:29.671280",
     "status": "completed"
    },
    "tags": []
   },
   "outputs": [
    {
     "name": "stdout",
     "output_type": "stream",
     "text": [
      "Downloading data from http://storage.googleapis.com/download.tensorflow.org/data/spa-eng.zip\n",
      "2646016/2638744 [==============================] - 0s 0us/step\n"
     ]
    }
   ],
   "source": [
    "dataset_path_zip = tf.keras.utils.get_file( fname='spa-eng.zip', origin='http://storage.googleapis.com/download.tensorflow.org/data/spa-eng.zip', cache_dir='/content/', extract=True)\n",
    "dataset_path = os.path.dirname(dataset_path_zip) + \"/spa-eng/spa.txt\""
   ]
  },
  {
   "cell_type": "code",
   "execution_count": null,
   "metadata": {
    "colab": {},
    "colab_type": "code",
    "execution": {
     "iopub.execute_input": "2020-08-23T18:11:30.258345Z",
     "iopub.status.busy": "2020-08-23T18:11:30.257558Z",
     "iopub.status.idle": "2020-08-23T18:11:30.261472Z",
     "shell.execute_reply": "2020-08-23T18:11:30.260996Z"
    },
    "id": "lhJwsTZ2TtZf",
    "papermill": {
     "duration": 0.037606,
     "end_time": "2020-08-23T18:11:30.261575",
     "exception": false,
     "start_time": "2020-08-23T18:11:30.223969",
     "status": "completed"
    },
    "tags": []
   },
   "outputs": [],
   "source": [
    "def convert_unicode_to_ascii(s):\n",
    "    return ''.join(c for c in unicodedata.normalize('NFD',s) if unicodedata.category(c) != 'Mn' )\n",
    "    #Mn\tNonspacing_Mark\ta nonspacing combining mark (zero advance width)"
   ]
  },
  {
   "cell_type": "code",
   "execution_count": null,
   "metadata": {
    "colab": {},
    "colab_type": "code",
    "execution": {
     "iopub.execute_input": "2020-08-23T18:11:30.327632Z",
     "iopub.status.busy": "2020-08-23T18:11:30.327048Z",
     "iopub.status.idle": "2020-08-23T18:11:30.333083Z",
     "shell.execute_reply": "2020-08-23T18:11:30.333584Z"
    },
    "id": "MFANuEFHWoW8",
    "outputId": "b6b77627-0a0a-4332-a48e-254408367852",
    "papermill": {
     "duration": 0.043453,
     "end_time": "2020-08-23T18:11:30.333724",
     "exception": false,
     "start_time": "2020-08-23T18:11:30.290271",
     "status": "completed"
    },
    "tags": []
   },
   "outputs": [
    {
     "data": {
      "text/plain": [
       "'Hello hi'"
      ]
     },
     "execution_count": 4,
     "metadata": {
      "tags": []
     },
     "output_type": "execute_result"
    }
   ],
   "source": [
    "#Unit testing\n",
    "convert_unicode_to_ascii('Hello hi')"
   ]
  },
  {
   "cell_type": "code",
   "execution_count": null,
   "metadata": {
    "colab": {},
    "colab_type": "code",
    "execution": {
     "iopub.execute_input": "2020-08-23T18:11:30.409103Z",
     "iopub.status.busy": "2020-08-23T18:11:30.408195Z",
     "iopub.status.idle": "2020-08-23T18:11:30.412841Z",
     "shell.execute_reply": "2020-08-23T18:11:30.412197Z"
    },
    "id": "KSuuMPkHWLh0",
    "papermill": {
     "duration": 0.045075,
     "end_time": "2020-08-23T18:11:30.412963",
     "exception": false,
     "start_time": "2020-08-23T18:11:30.367888",
     "status": "completed"
    },
    "tags": []
   },
   "outputs": [],
   "source": [
    "def preprocess_sentence(s):\n",
    "    s = convert_unicode_to_ascii(s.lower().strip()) #strip removes initial or trailing spaces\n",
    "\n",
    "    #Give space between a word/alphabet and a punctuation\n",
    "    # Eg: Example sentence to demonstrate spacing. -> Example sentence to demonstrate spacing .\n",
    "    s = re.sub(r\"([.,!?¿])\", r\" \\1 \",s)\n",
    "\n",
    "    #Now remove the extra spaces which maybe caused by the first regex\n",
    "    s = re.sub(r'[\" \"]+',\" \",s)\n",
    "\n",
    "    #Replace all unacceptable characters with space\n",
    "    s = re.sub(r\"[^a-zA-Z.,!?¿]+\",\" \",s)\n",
    "\n",
    "    #Remove initial and trailing spaces\n",
    "    s = s.strip()\n",
    "\n",
    "    #Add a start and end token\n",
    "    s = '<start> ' + s + ' <end>'\n",
    "\n",
    "\n",
    "\n",
    "    return s"
   ]
  },
  {
   "cell_type": "code",
   "execution_count": null,
   "metadata": {
    "colab": {},
    "colab_type": "code",
    "execution": {
     "iopub.execute_input": "2020-08-23T18:11:30.487999Z",
     "iopub.status.busy": "2020-08-23T18:11:30.487160Z",
     "iopub.status.idle": "2020-08-23T18:11:30.492876Z",
     "shell.execute_reply": "2020-08-23T18:11:30.492137Z"
    },
    "id": "GNjWHRrzW4im",
    "outputId": "43e8160f-cddd-44bd-b24b-178ea0e22b8b",
    "papermill": {
     "duration": 0.045547,
     "end_time": "2020-08-23T18:11:30.493016",
     "exception": false,
     "start_time": "2020-08-23T18:11:30.447469",
     "status": "completed"
    },
    "tags": []
   },
   "outputs": [
    {
     "name": "stdout",
     "output_type": "stream",
     "text": [
      "<start> what is your name ? ! <end>\n",
      "<start> ¿ cual es tu nombre ? ! <end>\n"
     ]
    }
   ],
   "source": [
    "#Unit Testing\n",
    "english_sentence = u\"What is your name?!\"\n",
    "spanish_sentence = u\"¡¿Cuál es tu nombre?!\"\n",
    "print(preprocess_sentence(english_sentence))\n",
    "print(preprocess_sentence(spanish_sentence))"
   ]
  },
  {
   "cell_type": "code",
   "execution_count": null,
   "metadata": {
    "colab": {},
    "colab_type": "code",
    "execution": {
     "iopub.execute_input": "2020-08-23T18:11:30.566518Z",
     "iopub.status.busy": "2020-08-23T18:11:30.565668Z",
     "iopub.status.idle": "2020-08-23T18:11:30.568921Z",
     "shell.execute_reply": "2020-08-23T18:11:30.568317Z"
    },
    "id": "7NN_kkheW7EL",
    "papermill": {
     "duration": 0.042489,
     "end_time": "2020-08-23T18:11:30.569043",
     "exception": false,
     "start_time": "2020-08-23T18:11:30.526554",
     "status": "completed"
    },
    "tags": []
   },
   "outputs": [],
   "source": [
    "def load_dataset(dataset_path, num_sentences):\n",
    "    lines = io.open(dataset_path,encoding='UTF-8').read().strip().split('\\n')\n",
    "\n",
    "    #The english and spanish sentences are seperated by a tab (\\t) in the dataset file\n",
    "    sentences_pairs = [[preprocess_sentence(s) for s in l.split('\\t')] for l in lines[:num_sentences]]\n",
    "    \n",
    "    #Unzip the pairs\n",
    "    en_sentences, spanish_sentences = zip(*sentences_pairs)\n",
    "    return en_sentences, spanish_sentences"
   ]
  },
  {
   "cell_type": "code",
   "execution_count": null,
   "metadata": {
    "colab": {},
    "colab_type": "code",
    "execution": {
     "iopub.execute_input": "2020-08-23T18:11:30.637886Z",
     "iopub.status.busy": "2020-08-23T18:11:30.636805Z",
     "iopub.status.idle": "2020-08-23T18:11:38.704878Z",
     "shell.execute_reply": "2020-08-23T18:11:38.703672Z"
    },
    "id": "ZNKBGiU5fbkQ",
    "papermill": {
     "duration": 8.103969,
     "end_time": "2020-08-23T18:11:38.705005",
     "exception": false,
     "start_time": "2020-08-23T18:11:30.601036",
     "status": "completed"
    },
    "tags": []
   },
   "outputs": [],
   "source": [
    "en,sp = load_dataset(dataset_path,None)"
   ]
  },
  {
   "cell_type": "code",
   "execution_count": null,
   "metadata": {
    "colab": {},
    "colab_type": "code",
    "execution": {
     "iopub.execute_input": "2020-08-23T18:11:38.776359Z",
     "iopub.status.busy": "2020-08-23T18:11:38.774403Z",
     "iopub.status.idle": "2020-08-23T18:11:38.777039Z",
     "shell.execute_reply": "2020-08-23T18:11:38.777502Z"
    },
    "id": "kIzBsmjzhAMv",
    "papermill": {
     "duration": 0.040516,
     "end_time": "2020-08-23T18:11:38.777624",
     "exception": false,
     "start_time": "2020-08-23T18:11:38.737108",
     "status": "completed"
    },
    "tags": []
   },
   "outputs": [],
   "source": [
    "def tokenize(lang_sentences):\n",
    "    tokenizer = tf.keras.preprocessing.text.Tokenizer(\n",
    "        filters = '' #Remove the default filters available in the function\n",
    "    )\n",
    "\n",
    "    tokenizer.fit_on_texts(lang_sentences)\n",
    "    seq = tokenizer.texts_to_sequences(lang_sentences)\n",
    "    tensor = tf.keras.preprocessing.sequence.pad_sequences(sequences=seq,padding='post')\n",
    "\n",
    "    return tensor, tokenizer"
   ]
  },
  {
   "cell_type": "code",
   "execution_count": null,
   "metadata": {
    "colab": {},
    "colab_type": "code",
    "execution": {
     "iopub.execute_input": "2020-08-23T18:11:38.848200Z",
     "iopub.status.busy": "2020-08-23T18:11:38.846362Z",
     "iopub.status.idle": "2020-08-23T18:11:38.848939Z",
     "shell.execute_reply": "2020-08-23T18:11:38.849444Z"
    },
    "id": "YbqQfZPLjOIW",
    "papermill": {
     "duration": 0.040326,
     "end_time": "2020-08-23T18:11:38.849563",
     "exception": false,
     "start_time": "2020-08-23T18:11:38.809237",
     "status": "completed"
    },
    "tags": []
   },
   "outputs": [],
   "source": [
    "def create_dataset(dataset_path,num_sentences=None):\n",
    "\n",
    "    # Input - Spanish , Target - English\n",
    "    target_lang, input_lang = load_dataset(dataset_path,num_sentences)\n",
    "\n",
    "    input_tensor, input_tokenizer = tokenize(input_lang)\n",
    "    target_tensor, target_tokenizer = tokenize(target_lang)\n",
    "\n",
    "    return input_tensor, input_tokenizer, target_tensor, target_tokenizer\n",
    "\n"
   ]
  },
  {
   "cell_type": "code",
   "execution_count": null,
   "metadata": {
    "colab": {},
    "colab_type": "code",
    "execution": {
     "iopub.execute_input": "2020-08-23T18:11:38.918622Z",
     "iopub.status.busy": "2020-08-23T18:11:38.917429Z",
     "iopub.status.idle": "2020-08-23T18:11:55.182186Z",
     "shell.execute_reply": "2020-08-23T18:11:55.180632Z"
    },
    "id": "9mw5d6kymRyO",
    "outputId": "8b8145bf-1aaf-4b4e-9426-fd3a136977f2",
    "papermill": {
     "duration": 16.301331,
     "end_time": "2020-08-23T18:11:55.182369",
     "exception": false,
     "start_time": "2020-08-23T18:11:38.881038",
     "status": "completed"
    },
    "tags": []
   },
   "outputs": [
    {
     "name": "stdout",
     "output_type": "stream",
     "text": [
      "No. of unique tokens in input language (Spanish) : 24793\n",
      "No. of unique tokens in target language (English) : 12933\n"
     ]
    }
   ],
   "source": [
    "input_tensor, input_lang, target_tensor, target_lang = create_dataset(dataset_path)\n",
    "print(f'No. of unique tokens in input language (Spanish) : {len(input_lang.word_index)}')\n",
    "print(f'No. of unique tokens in target language (English) : {len(target_lang.word_index)}')"
   ]
  },
  {
   "cell_type": "code",
   "execution_count": null,
   "metadata": {
    "colab": {},
    "colab_type": "code",
    "execution": {
     "iopub.execute_input": "2020-08-23T18:11:55.251986Z",
     "iopub.status.busy": "2020-08-23T18:11:55.251230Z",
     "iopub.status.idle": "2020-08-23T18:11:55.254517Z",
     "shell.execute_reply": "2020-08-23T18:11:55.253904Z"
    },
    "id": "jI9Sm-HcmyK9",
    "papermill": {
     "duration": 0.039809,
     "end_time": "2020-08-23T18:11:55.254625",
     "exception": false,
     "start_time": "2020-08-23T18:11:55.214816",
     "status": "completed"
    },
    "tags": []
   },
   "outputs": [],
   "source": [
    "input_max_len, target_max_length = input_tensor.shape[1], target_tensor.shape[1]"
   ]
  },
  {
   "cell_type": "code",
   "execution_count": null,
   "metadata": {
    "colab": {},
    "colab_type": "code",
    "execution": {
     "iopub.execute_input": "2020-08-23T18:11:55.326362Z",
     "iopub.status.busy": "2020-08-23T18:11:55.325560Z",
     "iopub.status.idle": "2020-08-23T18:11:55.365834Z",
     "shell.execute_reply": "2020-08-23T18:11:55.365152Z"
    },
    "id": "7ae5UlwSm_ns",
    "outputId": "c19fcdef-605c-4f29-8125-6a1daa2dab61",
    "papermill": {
     "duration": 0.079186,
     "end_time": "2020-08-23T18:11:55.365998",
     "exception": false,
     "start_time": "2020-08-23T18:11:55.286812",
     "status": "completed"
    },
    "tags": []
   },
   "outputs": [
    {
     "name": "stdout",
     "output_type": "stream",
     "text": [
      "No. of spanish and english sentences in the training set are 95171 and 95171\n",
      "No. of spanish and english sentences in the validation set are 23793 and 23793\n"
     ]
    }
   ],
   "source": [
    "#Split the dataset into train and val split\n",
    "train_input, val_input, train_target, val_target = train_test_split(input_tensor,target_tensor,test_size=0.2,random_state=41)\n",
    "\n",
    "print(f'No. of spanish and english sentences in the training set are {len(train_input)} and {len(train_target)}')\n",
    "print(f'No. of spanish and english sentences in the validation set are {len(val_input)} and {len(val_target)}')"
   ]
  },
  {
   "cell_type": "code",
   "execution_count": null,
   "metadata": {
    "colab": {},
    "colab_type": "code",
    "execution": {
     "iopub.execute_input": "2020-08-23T18:11:55.445208Z",
     "iopub.status.busy": "2020-08-23T18:11:55.444364Z",
     "iopub.status.idle": "2020-08-23T18:11:55.446982Z",
     "shell.execute_reply": "2020-08-23T18:11:55.447540Z"
    },
    "id": "7lpsLwczoGOi",
    "papermill": {
     "duration": 0.041172,
     "end_time": "2020-08-23T18:11:55.447663",
     "exception": false,
     "start_time": "2020-08-23T18:11:55.406491",
     "status": "completed"
    },
    "tags": []
   },
   "outputs": [],
   "source": [
    "def index_to_sentences(lang,s):\n",
    "    for i in s:\n",
    "        if i!=0: #Ignoring pad (0) token\n",
    "            print(f'{i} ---> {lang.index_word[i]}')"
   ]
  },
  {
   "cell_type": "code",
   "execution_count": null,
   "metadata": {
    "colab": {},
    "colab_type": "code",
    "execution": {
     "iopub.execute_input": "2020-08-23T18:11:55.669918Z",
     "iopub.status.busy": "2020-08-23T18:11:55.669021Z",
     "iopub.status.idle": "2020-08-23T18:11:55.675550Z",
     "shell.execute_reply": "2020-08-23T18:11:55.675010Z"
    },
    "id": "CJjBGyvUo7uG",
    "outputId": "9e970e35-8a22-4311-ac73-a52f55be9aac",
    "papermill": {
     "duration": 0.046438,
     "end_time": "2020-08-23T18:11:55.675647",
     "exception": false,
     "start_time": "2020-08-23T18:11:55.629209",
     "status": "completed"
    },
    "tags": []
   },
   "outputs": [
    {
     "name": "stdout",
     "output_type": "stream",
     "text": [
      "Input Language Mapping sample\n",
      "1 ---> <start>\n",
      "28 ---> ella\n",
      "690 ---> vendra\n",
      "19 ---> esta\n",
      "135 ---> noche\n",
      "3 ---> .\n",
      "2 ---> <end>\n",
      "None\n",
      "Target Language Mapping sample\n",
      "1 ---> <start>\n",
      "27 ---> she\n",
      "52 ---> will\n",
      "37 ---> be\n",
      "62 ---> here\n",
      "23 ---> this\n",
      "726 ---> evening\n",
      "3 ---> .\n",
      "2 ---> <end>\n",
      "None\n"
     ]
    }
   ],
   "source": [
    "print(\"Input Language Mapping sample\")\n",
    "print(index_to_sentences(input_lang,train_input[0]))\n",
    "print(\"Target Language Mapping sample\")\n",
    "print(index_to_sentences(target_lang,train_target[0]))"
   ]
  },
  {
   "cell_type": "code",
   "execution_count": null,
   "metadata": {
    "colab": {},
    "colab_type": "code",
    "execution": {
     "iopub.execute_input": "2020-08-23T18:11:55.749982Z",
     "iopub.status.busy": "2020-08-23T18:11:55.749130Z",
     "iopub.status.idle": "2020-08-23T18:11:55.752420Z",
     "shell.execute_reply": "2020-08-23T18:11:55.751912Z"
    },
    "id": "rhgsTyWmpBG2",
    "papermill": {
     "duration": 0.04235,
     "end_time": "2020-08-23T18:11:55.752518",
     "exception": false,
     "start_time": "2020-08-23T18:11:55.710168",
     "status": "completed"
    },
    "tags": []
   },
   "outputs": [],
   "source": [
    "BUFFER_SIZE = len(train_input)\n",
    "BATCH_SIZE = 128\n",
    "EMBEDDING_DIM = 300\n",
    "ENC_GRU_UNITS = DEC_GRU_UNITS = 1024"
   ]
  },
  {
   "cell_type": "code",
   "execution_count": null,
   "metadata": {
    "colab": {},
    "colab_type": "code",
    "execution": {
     "iopub.execute_input": "2020-08-23T18:11:56.644964Z",
     "iopub.status.busy": "2020-08-23T18:11:56.643827Z",
     "iopub.status.idle": "2020-08-23T18:11:58.430635Z",
     "shell.execute_reply": "2020-08-23T18:11:58.431943Z"
    },
    "id": "b_Fw7VU-ro5H",
    "papermill": {
     "duration": 2.645126,
     "end_time": "2020-08-23T18:11:58.432163",
     "exception": false,
     "start_time": "2020-08-23T18:11:55.787037",
     "status": "completed"
    },
    "tags": []
   },
   "outputs": [],
   "source": [
    "#Create tf.data dataset for efficient loading and processing\n",
    "steps_per_epoch = BUFFER_SIZE // BATCH_SIZE\n",
    "input_vocab_size = len(input_lang.word_index) + 1 # +1 to include the last index word in the size count\n",
    "target_vocab_size = len(target_lang.word_index) + 1\n",
    "\n",
    "dataset = tf.data.Dataset.from_tensor_slices((train_input,train_target)).shuffle(BUFFER_SIZE)\n",
    "\n",
    "#Create batches\n",
    "dataset = dataset.batch(BATCH_SIZE, drop_remainder=True)"
   ]
  },
  {
   "cell_type": "code",
   "execution_count": null,
   "metadata": {
    "colab": {},
    "colab_type": "code",
    "execution": {
     "iopub.execute_input": "2020-08-23T18:11:58.550468Z",
     "iopub.status.busy": "2020-08-23T18:11:58.549542Z",
     "iopub.status.idle": "2020-08-23T18:11:58.847984Z",
     "shell.execute_reply": "2020-08-23T18:11:58.849136Z"
    },
    "id": "62Ho1S-EsfeX",
    "outputId": "9e8a2e0a-071d-4ed0-ea2a-98bb18f06a7a",
    "papermill": {
     "duration": 0.361768,
     "end_time": "2020-08-23T18:11:58.849353",
     "exception": false,
     "start_time": "2020-08-23T18:11:58.487585",
     "status": "completed"
    },
    "tags": []
   },
   "outputs": [
    {
     "data": {
      "text/plain": [
       "(TensorShape([128, 53]), TensorShape([128, 51]))"
      ]
     },
     "execution_count": 20,
     "metadata": {
      "tags": []
     },
     "output_type": "execute_result"
    }
   ],
   "source": [
    "test_input, test_target = next(iter(dataset))\n",
    "test_input.shape, test_target.shape"
   ]
  },
  {
   "cell_type": "code",
   "execution_count": null,
   "metadata": {
    "colab": {},
    "colab_type": "code",
    "execution": {
     "iopub.execute_input": "2020-08-23T18:11:58.945279Z",
     "iopub.status.busy": "2020-08-23T18:11:58.944666Z",
     "iopub.status.idle": "2020-08-23T18:12:01.876113Z",
     "shell.execute_reply": "2020-08-23T18:12:01.876821Z"
    },
    "id": "QSQyEO5xB5Nq",
    "outputId": "3f2ea24e-18c5-4e4a-e13b-9bcb34d43546",
    "papermill": {
     "duration": 2.976878,
     "end_time": "2020-08-23T18:12:01.877022",
     "exception": false,
     "start_time": "2020-08-23T18:11:58.900144",
     "status": "completed"
    },
    "tags": []
   },
   "outputs": [
    {
     "name": "stdout",
     "output_type": "stream",
     "text": [
      "(32, 4)\n",
      "(32, 10, 4)\n",
      "(32, 4)\n"
     ]
    }
   ],
   "source": [
    "#Refer the shapes of GRU Outputs\n",
    "inputs = tf.random.normal([32, 10, 8]) #(Batch-size,vocab_size,embedding_dim)\n",
    "gru = tf.keras.layers.GRU(4) \n",
    "output = gru(inputs) \n",
    "print(output.shape) #(32, 4) \n",
    "gru = tf.keras.layers.GRU(4, return_sequences=True, return_state=True)  \n",
    "#final_state = gru(inputs) \n",
    "whole_sequence_output, final_state = gru(inputs) \n",
    "print(whole_sequence_output.shape) #(32, 10, 4) \n",
    "print(final_state.shape) #(32, 4)\n",
    "#The Last hidden state is equal to the final state\n",
    "#whole_sequence_output[:,-1,:] == final_state()"
   ]
  },
  {
   "cell_type": "markdown",
   "metadata": {
    "colab_type": "text",
    "id": "1tfzGRRejH9M"
   },
   "source": [
    "## Create Custom Model\n",
    "\n",
    "The Attention mechanism is applied to a RNN Encoder-Decoder network in the following way : \n",
    "\n",
    "![Attention Mechanism](Images/LuongAttentionMechanism.jpg)\n",
    "\n",
    "\n",
    "<br>\n",
    "\n",
    "where,\n",
    "  - Blue box denotes the Encoder hidden states (Encoder output)\n",
    "  - Red box denotes the decoder hidden states\n",
    "\n",
    "\n",
    "` The code for BahdanauAttention Model is clearly annotated for more clarity.`\n",
    "\n"
   ]
  },
  {
   "cell_type": "markdown",
   "metadata": {
    "colab_type": "text",
    "id": "HdYHjQHFjM0h"
   },
   "source": [
    "### Encoder"
   ]
  },
  {
   "cell_type": "code",
   "execution_count": null,
   "metadata": {
    "colab": {},
    "colab_type": "code",
    "execution": {
     "iopub.execute_input": "2020-08-23T18:12:01.967281Z",
     "iopub.status.busy": "2020-08-23T18:12:01.966438Z",
     "iopub.status.idle": "2020-08-23T18:12:01.970613Z",
     "shell.execute_reply": "2020-08-23T18:12:01.970064Z"
    },
    "id": "aZ2UKQJfss-v",
    "papermill": {
     "duration": 0.048423,
     "end_time": "2020-08-23T18:12:01.970721",
     "exception": false,
     "start_time": "2020-08-23T18:12:01.922298",
     "status": "completed"
    },
    "tags": []
   },
   "outputs": [],
   "source": [
    "class Encoder(tf.keras.Model):\n",
    "    def __init__(self,batch_sz,vocab_size,embedding_dim,enc_units):\n",
    "        super(Encoder,self).__init__()\n",
    "        self.batch_size = batch_sz\n",
    "        self.gru_units = enc_units\n",
    "\n",
    "        self.embedding = Embedding(vocab_size,embedding_dim)\n",
    "        self.gru = GRU(self.gru_units,\n",
    "                       return_sequences=True,\n",
    "                       return_state=True,\n",
    "                       recurrent_initializer='glorot_uniform')\n",
    "        \n",
    "    def call(self,x,hidden):\n",
    "        x = self.embedding(x)\n",
    "        sequence_output,state = self.gru(x,initial_state = hidden)\n",
    "\n",
    "        return sequence_output, state\n",
    "    \n",
    "    def initialize_hidden_state(self):\n",
    "        return tf.zeros((self.batch_size,self.gru_units))"
   ]
  },
  {
   "cell_type": "code",
   "execution_count": null,
   "metadata": {
    "colab": {},
    "colab_type": "code",
    "execution": {
     "iopub.execute_input": "2020-08-23T18:12:02.048999Z",
     "iopub.status.busy": "2020-08-23T18:12:02.048317Z",
     "iopub.status.idle": "2020-08-23T18:12:02.168873Z",
     "shell.execute_reply": "2020-08-23T18:12:02.169675Z"
    },
    "id": "kuPj2YVMEeCP",
    "outputId": "64917089-a494-4981-810b-530b9b85604e",
    "papermill": {
     "duration": 0.163284,
     "end_time": "2020-08-23T18:12:02.169910",
     "exception": false,
     "start_time": "2020-08-23T18:12:02.006626",
     "status": "completed"
    },
    "tags": []
   },
   "outputs": [
    {
     "name": "stdout",
     "output_type": "stream",
     "text": [
      "Encoder output sequence shape of the form (BATCH_SIZE, SEQUENCE_LENGTH, GRU_UNITS) is (128, 53, 1024)\n",
      "Encoder hidden state shape of the form (BATCH_SIZE,GRU_UNITS) is (128, 1024)\n"
     ]
    }
   ],
   "source": [
    "encoder = Encoder(BATCH_SIZE,input_vocab_size,EMBEDDING_DIM,ENC_GRU_UNITS)\n",
    "test_hidden = encoder.initialize_hidden_state()\n",
    "test_enc_output, test_hidden = encoder(test_input,test_hidden)\n",
    "print(f'Encoder output sequence shape of the form (BATCH_SIZE, SEQUENCE_LENGTH, GRU_UNITS) is {test_enc_output.shape}')\n",
    "print(f'Encoder hidden state shape of the form (BATCH_SIZE,GRU_UNITS) is {test_hidden.shape}')"
   ]
  },
  {
   "cell_type": "markdown",
   "metadata": {
    "colab_type": "text",
    "id": "BnYZLlcml5cZ"
   },
   "source": [
    "\n",
    "Bahdanau Attention consists of the following main steps:\n",
    "\n",
    "\n",
    "\n",
    "- `Attention score = V(tanh(W1(Encoder_Outputs) + W2(Decoder_Hidden_State)))`\n",
    "* `Attention weights = softmax(Attention_Score, axis = 1)`\n",
    "* `Context Vector = sum(attention_weights * Encoder_Outputs, axis = 1)`\n",
    "* `embedding output` = The input to the decoder X is passed through an embedding layer.\n",
    "* `Modified vector = concat(Decoder_Hidden_State, Context Vector)`\n",
    "* This Modified vector is then given to the GRU\n",
    "\n",
    "<br>\n",
    "\n",
    "The following equations are from Bahdanau Attention paper:\n",
    "\n",
    "![BahdanauAttention Equation 1](Images/BahdanauAttention_Equation_1.jpg)\n",
    "![BahdanauAttention Equation 2](Images/BahdanauAttention_Equation_1.jpg)\n",
    "\n"
   ]
  },
  {
   "cell_type": "markdown",
   "metadata": {
    "colab_type": "text",
    "id": "b_Vt-ZnpjST7"
   },
   "source": [
    "### BahdanauAttention"
   ]
  },
  {
   "cell_type": "code",
   "execution_count": null,
   "metadata": {
    "colab": {},
    "colab_type": "code",
    "execution": {
     "iopub.execute_input": "2020-08-23T18:12:02.260358Z",
     "iopub.status.busy": "2020-08-23T18:12:02.258237Z",
     "iopub.status.idle": "2020-08-23T18:12:02.261086Z",
     "shell.execute_reply": "2020-08-23T18:12:02.261555Z"
    },
    "id": "eEzjt1lEF9Rt",
    "papermill": {
     "duration": 0.052649,
     "end_time": "2020-08-23T18:12:02.261687",
     "exception": false,
     "start_time": "2020-08-23T18:12:02.209038",
     "status": "completed"
    },
    "tags": []
   },
   "outputs": [],
   "source": [
    "class BahdanauAttention(tf.keras.layers.Layer):\n",
    "    def __init__(self,units):\n",
    "        super(BahdanauAttention,self).__init__()\n",
    "        #units should be equal to decoder_gru_units, encoder_gru_units\n",
    "        self.W1 = Dense(units)\n",
    "        self.W2 = Dense(units)\n",
    "        self.V = Dense(1)\n",
    "\n",
    "\n",
    "    def call(self,query,values):\n",
    "        #query is the hidden state of the decoder => (BATCH_SIZE,GRU_DEC_UNITS)\n",
    "        #Values is the output seq of the encoder -> Shape=(BATCH_SIZE, SEQUENCE_LENGTH, GRU_ENC_UNITS)\n",
    "\n",
    "        #SEQUENCE_LENGTH corresponds to the number of hidden states in the encoder\n",
    "        #GRU_DEC_UNITS = GRU_ENC_UNITS\n",
    "\n",
    "\n",
    "        ###Step 1: Expand the dim of the query(dec_hidden_state) along axis 1 to denote we are querying for a single decoder hidden state\n",
    "        \n",
    "        #Expand the dim of thq query along the time axis\n",
    "        query_time_axis = tf.expand_dims(query,axis=1) #Shape -> (BATCH_SIZE,1,GRU_DEC_UNITS)\n",
    "\n",
    "\n",
    "        ###Step 2: Compute the attention scores for each encoder hidden states(SEQUENCE_LENGTH)\n",
    "        \n",
    "        #Attention score for each hidden layer. score shape -> (BATCH_SIZE, SEQUENCE_LENGTH,1)\n",
    "        score = self.V(tf.nn.tanh(\n",
    "            self.W1(query_time_axis) + self.W2(values)))\n",
    "        \n",
    "        attention_weights = tf.nn.softmax(score,axis=1) #Attention_weights shape -> (BATCH_SIZE, SEQUENCE_LENGTH,1)\n",
    "\n",
    "\n",
    "        ###Step 3: Apply the attention weights to the respective hidden states and compute the context vector\n",
    "\n",
    "        #weighted_enc_hidden_states is in shape as values because we are just multiplying some weights to each value\n",
    "        weighted_enc_hidden_states = attention_weights * values #shape -> (BATCH_SIZE, SEQUENCE_LENGTH,GRU_ENC_UNITS)\n",
    "\n",
    "\n",
    "        ###Step 4: Add all the weighted hidden states to form the context vector\n",
    "\n",
    "        #Form a single context_vector by adding all weighted_enc_hidden_states of each enc hidden state\n",
    "        context_vector = tf.reduce_sum(weighted_enc_hidden_states, axis=1) #shape-> (BATCH_SIZE,GRU_ENC_UNITS) \n",
    "\n",
    "\n",
    "        return context_vector, attention_weights\n"
   ]
  },
  {
   "cell_type": "code",
   "execution_count": null,
   "metadata": {
    "colab": {},
    "colab_type": "code",
    "execution": {
     "iopub.execute_input": "2020-08-23T18:12:02.343730Z",
     "iopub.status.busy": "2020-08-23T18:12:02.342655Z",
     "iopub.status.idle": "2020-08-23T18:12:03.103416Z",
     "shell.execute_reply": "2020-08-23T18:12:03.102540Z"
    },
    "id": "pxTXwqoyF9qm",
    "outputId": "9b31cbff-cee0-4751-c7b9-024bd6d8f455",
    "papermill": {
     "duration": 0.805152,
     "end_time": "2020-08-23T18:12:03.103538",
     "exception": false,
     "start_time": "2020-08-23T18:12:02.298386",
     "status": "completed"
    },
    "tags": []
   },
   "outputs": [
    {
     "name": "stdout",
     "output_type": "stream",
     "text": [
      "Attention result (context vector) shape : (128, 1024)\n",
      "Attention weights (score for each enc hidden state) shape : (128, 53, 1)\n"
     ]
    }
   ],
   "source": [
    "test_attention = BahdanauAttention(10)\n",
    "attention_result, attention_weights = test_attention(test_hidden,test_enc_output)\n",
    "print(f'Attention result (context vector) shape : {attention_result.shape}')\n",
    "print(f'Attention weights (score for each enc hidden state) shape : {attention_weights.shape}') #Can be viewed as attention for each words"
   ]
  },
  {
   "cell_type": "markdown",
   "metadata": {
    "colab_type": "text",
    "id": "ppeeDCR-jV3e"
   },
   "source": [
    "### Decoder"
   ]
  },
  {
   "cell_type": "code",
   "execution_count": null,
   "metadata": {
    "colab": {},
    "colab_type": "code",
    "execution": {
     "iopub.execute_input": "2020-08-23T18:12:03.192334Z",
     "iopub.status.busy": "2020-08-23T18:12:03.190655Z",
     "iopub.status.idle": "2020-08-23T18:12:03.193252Z",
     "shell.execute_reply": "2020-08-23T18:12:03.193807Z"
    },
    "id": "s5F9QJW8F9_t",
    "papermill": {
     "duration": 0.052467,
     "end_time": "2020-08-23T18:12:03.193950",
     "exception": false,
     "start_time": "2020-08-23T18:12:03.141483",
     "status": "completed"
    },
    "tags": []
   },
   "outputs": [],
   "source": [
    "class Decoder(tf.keras.Model):\n",
    "    def __init__(self,batch_sz,vocab_size,embedding_dim,dec_units):\n",
    "        super(Decoder,self).__init__()\n",
    "        self.batch_size = batch_sz\n",
    "        self.embedding = Embedding(vocab_size,embedding_dim)\n",
    "        self.gru = GRU(dec_units,return_sequences=True,return_state=True,recurrent_initializer='glorot_uniform')\n",
    "\n",
    "        self.fc = Dense(vocab_size)\n",
    "\n",
    "        #Attention is ON\n",
    "        self.attention = BahdanauAttention(dec_units)\n",
    "\n",
    "\n",
    "    def call(self,x,dec_hidden,enc_output):\n",
    "\n",
    "        x = self.embedding(x) #x shape -> (BATCH_SIZE,1,EMBEDDING_DIM)\n",
    "        \n",
    "        #Call the attention mechanism to get the context_vector (BATCH_SIZE,GRU_ENC_UNITS) and the attention_weights\n",
    "        context_vector, attention_weights = self.attention(dec_hidden,enc_output)\n",
    "\n",
    "        ###Step 5: Concatenate the context_vector with decoder hidden state\n",
    "\n",
    "        #expand the context_vector dim along x axis and then concat\n",
    "        context_vector = tf.expand_dims(context_vector,axis=1) # Shape -> (BATCH_SIZE,1,ENC_UNITS)\n",
    "        x = tf.concat([context_vector,x],axis=-1) # Shape -> (BATCH_SIZE,1,EMBEDDING_DIM + ENC_UNITS)\n",
    "\n",
    "        output, state = self.gru(x) #output shape -> (BATCH_SIZE,1,DEC_UNITS)\n",
    "\n",
    "        output = tf.reshape(output,(-1,output.shape[2])) # Shape -> (BATCH_SIZE,DEC_UNITS)\n",
    "\n",
    "        output = self.fc(output) #Shape -> (BATCH_SIZE,VOCAB_SIZE)\n",
    "\n",
    "        return output, state, attention_weights\n",
    "\n",
    "    \n",
    "\n"
   ]
  },
  {
   "cell_type": "code",
   "execution_count": null,
   "metadata": {
    "colab": {},
    "colab_type": "code",
    "execution": {
     "iopub.execute_input": "2020-08-23T18:12:03.275507Z",
     "iopub.status.busy": "2020-08-23T18:12:03.274518Z",
     "iopub.status.idle": "2020-08-23T18:12:03.360165Z",
     "shell.execute_reply": "2020-08-23T18:12:03.359451Z"
    },
    "id": "59Q6UoJHF-VH",
    "outputId": "8adb0302-d7cc-4c4d-e62f-da7537b8d938",
    "papermill": {
     "duration": 0.12946,
     "end_time": "2020-08-23T18:12:03.360340",
     "exception": false,
     "start_time": "2020-08-23T18:12:03.230880",
     "status": "completed"
    },
    "tags": []
   },
   "outputs": [
    {
     "name": "stdout",
     "output_type": "stream",
     "text": [
      "The decoder output shape is (128, 12934)\n"
     ]
    }
   ],
   "source": [
    "decoder = Decoder(BATCH_SIZE, target_vocab_size, EMBEDDING_DIM, DEC_GRU_UNITS)\n",
    "output, state, attention_weights = decoder(tf.random.uniform(shape=(BATCH_SIZE,1)),test_hidden,test_enc_output)\n",
    "print(f'The decoder output shape is {output.shape}')"
   ]
  },
  {
   "cell_type": "markdown",
   "metadata": {
    "colab_type": "text",
    "id": "qUnom183ja_o"
   },
   "source": [
    "## Define Custom loss function, Optimizer and Checkpoint"
   ]
  },
  {
   "cell_type": "code",
   "execution_count": null,
   "metadata": {
    "colab": {},
    "colab_type": "code",
    "execution": {
     "iopub.execute_input": "2020-08-23T18:12:03.465255Z",
     "iopub.status.busy": "2020-08-23T18:12:03.464502Z",
     "iopub.status.idle": "2020-08-23T18:12:03.468432Z",
     "shell.execute_reply": "2020-08-23T18:12:03.467947Z"
    },
    "id": "u-DRrd9XF-hC",
    "papermill": {
     "duration": 0.07092,
     "end_time": "2020-08-23T18:12:03.468535",
     "exception": false,
     "start_time": "2020-08-23T18:12:03.397615",
     "status": "completed"
    },
    "tags": []
   },
   "outputs": [],
   "source": [
    "optimizer = tf.keras.optimizers.Adam()\n",
    "loss_obj = tf.keras.losses.SparseCategoricalCrossentropy(from_logits=True,reduction = 'none')\n",
    "\n",
    "def loss_function(real,pred):\n",
    "    #There are some cases where the actual sentence ended but it is padded with word 0 till it reaches max_len. \n",
    "    #Such words should not be taken into account for computing the loss. \n",
    "    #So, we create a mask which returns False for every batch_member in a batch if the word value is 0.\n",
    "    mask = tf.math.logical_not(tf.math.equal(real,0)) #Returns True if the real[i] value is not 0(<pad>).\n",
    "    loss_computed = loss_obj(real,pred)\n",
    "    mask = tf.cast(mask, loss_computed.dtype)\n",
    "    loss_computed *= mask #Compute the loss only for words other than <pad> \n",
    "    \n",
    "    return tf.reduce_mean(loss_computed)"
   ]
  },
  {
   "cell_type": "code",
   "execution_count": null,
   "metadata": {
    "colab": {},
    "colab_type": "code",
    "execution": {
     "iopub.execute_input": "2020-08-23T18:12:03.559719Z",
     "iopub.status.busy": "2020-08-23T18:12:03.557920Z",
     "iopub.status.idle": "2020-08-23T18:12:03.560389Z",
     "shell.execute_reply": "2020-08-23T18:12:03.560861Z"
    },
    "id": "wu_rJCqhF-Kh",
    "papermill": {
     "duration": 0.052393,
     "end_time": "2020-08-23T18:12:03.560989",
     "exception": false,
     "start_time": "2020-08-23T18:12:03.508596",
     "status": "completed"
    },
    "tags": []
   },
   "outputs": [],
   "source": [
    "checkpoint_path = './training'\n",
    "ckp_prefix = os.path.join(checkpoint_path,'ckpt')\n",
    "\n",
    "#Creating a custom checkpoint\n",
    "checkpoint = tf.train.Checkpoint(optimizer = optimizer,encoder=encoder,decoder=decoder)"
   ]
  },
  {
   "cell_type": "code",
   "execution_count": null,
   "metadata": {
    "colab": {},
    "colab_type": "code",
    "execution": {
     "iopub.execute_input": "2020-08-23T18:12:03.642593Z",
     "iopub.status.busy": "2020-08-23T18:12:03.641990Z",
     "iopub.status.idle": "2020-08-23T18:12:03.680132Z",
     "shell.execute_reply": "2020-08-23T18:12:03.679491Z"
    },
    "id": "NEGQZT7e5fdm",
    "outputId": "b7dddfc2-f388-44a4-dfd8-a2737e15cc0b",
    "papermill": {
     "duration": 0.080428,
     "end_time": "2020-08-23T18:12:03.680239",
     "exception": false,
     "start_time": "2020-08-23T18:12:03.599811",
     "status": "completed"
    },
    "tags": []
   },
   "outputs": [
    {
     "name": "stdout",
     "output_type": "stream",
     "text": [
      "tf.Tensor(6.0, shape=(), dtype=float32)\n"
     ]
    }
   ],
   "source": [
    "#Gradient Tape Test\n",
    "x = tf.constant(3.0)\n",
    "with tf.GradientTape() as tape:\n",
    "    tape.watch(x) #watch() is needed for constants. tf.Variables such as weights and biases are automatically watched\n",
    "    y = x*x\n",
    "\n",
    "print(tape.gradient(y,x)) # y = x*x.  dy/dx = 2x. Answer = 6.0"
   ]
  },
  {
   "cell_type": "code",
   "execution_count": null,
   "metadata": {
    "colab": {},
    "colab_type": "code",
    "execution": {
     "iopub.execute_input": "2020-08-23T18:12:03.761448Z",
     "iopub.status.busy": "2020-08-23T18:12:03.760832Z",
     "iopub.status.idle": "2020-08-23T18:12:03.766307Z",
     "shell.execute_reply": "2020-08-23T18:12:03.765664Z"
    },
    "id": "mzIy7J6u6y0c",
    "outputId": "9db5b874-7822-4c2e-f78d-d60e17f82070",
    "papermill": {
     "duration": 0.048012,
     "end_time": "2020-08-23T18:12:03.766411",
     "exception": false,
     "start_time": "2020-08-23T18:12:03.718399",
     "status": "completed"
    },
    "tags": []
   },
   "outputs": [
    {
     "name": "stdout",
     "output_type": "stream",
     "text": [
      "(128, 1)\n"
     ]
    }
   ],
   "source": [
    "a = [target_lang.word_index['<start>']] * BATCH_SIZE\n",
    "print(tf.expand_dims(a,1).shape)"
   ]
  },
  {
   "cell_type": "markdown",
   "metadata": {
    "colab_type": "text",
    "id": "K0DBdFZZiEaS"
   },
   "source": [
    "## Custom Training"
   ]
  },
  {
   "cell_type": "code",
   "execution_count": null,
   "metadata": {
    "colab": {},
    "colab_type": "code",
    "execution": {
     "iopub.execute_input": "2020-08-23T18:12:03.853247Z",
     "iopub.status.busy": "2020-08-23T18:12:03.852559Z",
     "iopub.status.idle": "2020-08-23T18:12:03.856107Z",
     "shell.execute_reply": "2020-08-23T18:12:03.855094Z"
    },
    "id": "zHdjenJoF921",
    "papermill": {
     "duration": 0.051699,
     "end_time": "2020-08-23T18:12:03.856209",
     "exception": false,
     "start_time": "2020-08-23T18:12:03.804510",
     "status": "completed"
    },
    "tags": []
   },
   "outputs": [],
   "source": [
    "@tf.function\n",
    "def train_step(input,target,enc_hidden):\n",
    "    loss = 0\n",
    "\n",
    "    with tf.GradientTape() as tape:\n",
    "        enc_output, enc_hidden = encoder(input,enc_hidden)\n",
    "\n",
    "        dec_hidden = enc_hidden\n",
    "        \n",
    "        #Tell the decoder to start the sequence\n",
    "        dec_input = tf.expand_dims([target_lang.word_index['<start>']] * BATCH_SIZE, 1)\n",
    "        \n",
    "        #Iterate till the end of sentence\n",
    "        for t in range(1,target.shape[1]):\n",
    "            #Input every t-th word in a batch at the same time. Eg: 1st word in all 64 sentences then 2nd word in all 64 sent and so on.\n",
    "            pred, dec_hidden, _ = decoder(dec_input,dec_hidden,enc_output)\n",
    "            loss += loss_function(target[:,t],pred)\n",
    "\n",
    "            #Teacher Forcing - Target word is passed as the next input and not the predicted one. Because this is training phase!\n",
    "            dec_input = tf.expand_dims(target[:,t], 1)\n",
    "        \n",
    "    batch_loss = (loss / int(target.shape[1]))\n",
    "\n",
    "\n",
    "    variables = encoder.trainable_variables + decoder.trainable_variables\n",
    "\n",
    "    gradients = tape.gradient(loss,variables)\n",
    "\n",
    "    optimizer.apply_gradients(zip(gradients,variables))\n",
    "    return batch_loss\n"
   ]
  },
  {
   "cell_type": "code",
   "execution_count": null,
   "metadata": {
    "colab": {},
    "colab_type": "code",
    "execution": {
     "iopub.execute_input": "2020-08-23T18:12:03.943261Z",
     "iopub.status.busy": "2020-08-23T18:12:03.942627Z",
     "iopub.status.idle": "2020-08-23T18:12:05.975901Z",
     "shell.execute_reply": "2020-08-23T18:12:05.975265Z"
    },
    "id": "rF_Ct1NT9pRx",
    "outputId": "5154af19-1cfc-486d-da7f-93e1ae88dadb",
    "papermill": {
     "duration": 2.080439,
     "end_time": "2020-08-23T18:12:05.976034",
     "exception": false,
     "start_time": "2020-08-23T18:12:03.895595",
     "status": "completed"
    },
    "tags": []
   },
   "outputs": [
    {
     "name": "stdout",
     "output_type": "stream",
     "text": [
      "Checkpoint restored\n"
     ]
    }
   ],
   "source": [
    "if(tf.train.latest_checkpoint(checkpoint_dir='../input/nmt-attention-artifacts/')):\n",
    "    checkpoint.restore(tf.train.latest_checkpoint('../input/nmt-attention-artifacts/'))\n",
    "    print('Checkpoint restored')\n",
    "    \n",
    "else: \n",
    "    epochs = 10\n",
    "    for e in range(epochs):\n",
    "        start = time.time()\n",
    "        enc_hidden = encoder.initialize_hidden_state()\n",
    "        total_loss = 0\n",
    "\n",
    "        for (batch,(input,target)) in enumerate(dataset.take(steps_per_epoch)):\n",
    "            batch_loss = train_step(input,target,enc_hidden)\n",
    "            total_loss += batch_loss\n",
    "\n",
    "            if batch%300 == 0:\n",
    "                print('Epoch : {}, Batch : {}, Loss: {:.4f}'.format(e+1,batch,batch_loss.numpy()))\n",
    "\n",
    "        if (e % 4) == 0:\n",
    "            checkpoint.save(ckp_prefix)\n",
    "\n",
    "        print('Epoch : {}, Loss : {:.4f}, Time Taken : {:.4f}sec'.format(e+1,total_loss/steps_per_epoch,time.time() - start))\n",
    "    checkpoint.save(ckp_prefix)\n",
    "\n"
   ]
  },
  {
   "cell_type": "code",
   "execution_count": null,
   "metadata": {
    "colab": {},
    "colab_type": "code",
    "execution": {
     "iopub.execute_input": "2020-08-23T18:12:06.058062Z",
     "iopub.status.busy": "2020-08-23T18:12:06.057428Z",
     "iopub.status.idle": "2020-08-23T18:12:06.061442Z",
     "shell.execute_reply": "2020-08-23T18:12:06.060961Z"
    },
    "id": "D5NuKf4JhtlJ",
    "papermill": {
     "duration": 0.045737,
     "end_time": "2020-08-23T18:12:06.061544",
     "exception": false,
     "start_time": "2020-08-23T18:12:06.015807",
     "status": "completed"
    },
    "tags": []
   },
   "outputs": [],
   "source": [
    "#Save checkpoint\n",
    "#checkpoint.save(ckp_prefix)"
   ]
  },
  {
   "cell_type": "markdown",
   "metadata": {
    "colab_type": "text",
    "id": "E2x5TB1Ch22d"
   },
   "source": [
    "## Translation"
   ]
  },
  {
   "cell_type": "code",
   "execution_count": null,
   "metadata": {
    "colab": {},
    "colab_type": "code",
    "execution": {
     "iopub.execute_input": "2020-08-23T18:12:06.153615Z",
     "iopub.status.busy": "2020-08-23T18:12:06.152037Z",
     "iopub.status.idle": "2020-08-23T18:12:06.154486Z",
     "shell.execute_reply": "2020-08-23T18:12:06.155021Z"
    },
    "id": "Tj3rrpjl_tNi",
    "papermill": {
     "duration": 0.054412,
     "end_time": "2020-08-23T18:12:06.155143",
     "exception": false,
     "start_time": "2020-08-23T18:12:06.100731",
     "status": "completed"
    },
    "tags": []
   },
   "outputs": [],
   "source": [
    "def predict(sentence):\n",
    "\n",
    "    processed_sentence = preprocess_sentence(sentence)\n",
    "    attention_plot = np.zeros((target_max_length,input_max_len))\n",
    "\n",
    "    input_sent = [input_lang.word_index[w] for w in processed_sentence.split(' ')]\n",
    "    input_sent = tf.keras.preprocessing.sequence.pad_sequences([input_sent],maxlen=input_max_len,padding='post')\n",
    "\n",
    "    #convert to tensor\n",
    "    input = tf.convert_to_tensor(input_sent)\n",
    "    result = ''\n",
    "\n",
    "    enc_hidden_state = [tf.zeros((1,ENC_GRU_UNITS))]\n",
    "\n",
    "    enc_out, enc_hidden = encoder(input,enc_hidden_state)\n",
    "\n",
    "    dec_hidden = enc_hidden\n",
    "    dec_input = tf.expand_dims([target_lang.word_index['<start>']], 0)\n",
    "\n",
    "\n",
    "    for w in range(target_max_length):\n",
    "        pred, dec_hidden, attention_weights = decoder(dec_input,dec_hidden,enc_out)\n",
    "\n",
    "        attention_weights = tf.reshape(attention_weights, (-1,)) #Shape of attention_weights is (batch_size,target_max_len,1). Reshape it to (target_max_len,)\n",
    "        attention_plot[w] = attention_weights.numpy()\n",
    "\n",
    "        pred_id = tf.argmax(pred[0]).numpy()\n",
    "\n",
    "        pred_word = target_lang.index_word[pred_id]\n",
    "        \n",
    "        result += pred_word + ' '\n",
    "\n",
    "        if pred_word == '<end>':\n",
    "            return result[:-1], processed_sentence, attention_plot\n",
    "        \n",
    "        #No Teacher Forcing here\n",
    "        dec_input = tf.expand_dims([pred_id],0)\n",
    "\n",
    "\n",
    "    return result[:-1], processed_sentence, attention_plot\n"
   ]
  },
  {
   "cell_type": "code",
   "execution_count": null,
   "metadata": {
    "colab": {},
    "colab_type": "code",
    "execution": {
     "iopub.execute_input": "2020-08-23T18:12:06.249956Z",
     "iopub.status.busy": "2020-08-23T18:12:06.249047Z",
     "iopub.status.idle": "2020-08-23T18:12:06.253048Z",
     "shell.execute_reply": "2020-08-23T18:12:06.252455Z"
    },
    "id": "DO6L9fEekiPT",
    "papermill": {
     "duration": 0.055389,
     "end_time": "2020-08-23T18:12:06.253167",
     "exception": false,
     "start_time": "2020-08-23T18:12:06.197778",
     "status": "completed"
    },
    "tags": []
   },
   "outputs": [],
   "source": [
    "import matplotlib.ticker as ticker\n",
    "def plot_attention(attention,translated,input):\n",
    "    fig = plt.figure(figsize=(8,8))\n",
    "    ax = fig.add_subplot(1,1,1)\n",
    "    a = ax.matshow(attention,cmap='gist_yarg') #Opposite of gist_gray in which greater the value, more white.\n",
    "    #fig.colorbar(a)\n",
    "\n",
    "    font_dict = {'fontsize':14}\n",
    "\n",
    "    ax.set_xticklabels([''] + input,fontdict=font_dict,rotation=90) #Truth\n",
    "    ax.set_yticklabels([''] + translated,fontdict=font_dict) #Predicted\n",
    "\n",
    "    #Display the grid\n",
    "    ax.xaxis.set_major_locator(ticker.MultipleLocator(1))\n",
    "    ax.yaxis.set_major_locator(ticker.MultipleLocator(1))\n",
    "\n",
    "    plt.show()\n",
    "\n"
   ]
  },
  {
   "cell_type": "code",
   "execution_count": null,
   "metadata": {
    "colab": {},
    "colab_type": "code",
    "execution": {
     "iopub.execute_input": "2020-08-23T18:12:06.341790Z",
     "iopub.status.busy": "2020-08-23T18:12:06.341160Z",
     "iopub.status.idle": "2020-08-23T18:12:06.345323Z",
     "shell.execute_reply": "2020-08-23T18:12:06.344850Z"
    },
    "id": "LvENeuIIicYI",
    "papermill": {
     "duration": 0.050389,
     "end_time": "2020-08-23T18:12:06.345434",
     "exception": false,
     "start_time": "2020-08-23T18:12:06.295045",
     "status": "completed"
    },
    "tags": []
   },
   "outputs": [],
   "source": [
    "def translate(sentence):\n",
    "    result, preprocessed_sentence, attention_plot = predict(sentence)\n",
    "\n",
    "    print(f'Input : {preprocessed_sentence}')\n",
    "    print(f'Translation : <start> {result}')\n",
    "\n",
    "    #Trim the attention_plot 2d array \n",
    "    attention_plot = attention_plot[:len(result.split(' ')), :len(preprocessed_sentence.split(' '))]\n",
    "    \n",
    "    plot_attention(attention_plot,result.split(' '),preprocessed_sentence.split(' '))"
   ]
  },
  {
   "cell_type": "code",
   "execution_count": null,
   "metadata": {
    "colab": {},
    "colab_type": "code",
    "execution": {
     "iopub.execute_input": "2020-08-23T18:12:06.431072Z",
     "iopub.status.busy": "2020-08-23T18:12:06.430417Z",
     "iopub.status.idle": "2020-08-23T18:12:06.673566Z",
     "shell.execute_reply": "2020-08-23T18:12:06.672735Z"
    },
    "id": "JvK2pEogmsAH",
    "outputId": "3ccb2d27-2050-406e-dd7f-03bf78d44f45",
    "papermill": {
     "duration": 0.288305,
     "end_time": "2020-08-23T18:12:06.673726",
     "exception": false,
     "start_time": "2020-08-23T18:12:06.385421",
     "status": "completed"
    },
    "tags": []
   },
   "outputs": [
    {
     "name": "stdout",
     "output_type": "stream",
     "text": [
      "Input : <start> esta es mi vida . <end>\n",
      "Translation : <start> this is my life . <end>\n"
     ]
    },
    {
     "data": {
      "image/png": "[encoded data removed]",
      "text/plain": [
       "<Figure size 576x576 with 1 Axes>"
      ]
     },
     "metadata": {
      "needs_background": "light",
      "tags": []
     },
     "output_type": "display_data"
    },
    {
     "name": "stdout",
     "output_type": "stream",
     "text": [
      "Google Translation : this is my life.\n"
     ]
    }
   ],
   "source": [
    "translate(u'esta es mi vida.')\n",
    "print(\"Google Translation : this is my life.\")"
   ]
  },
  {
   "cell_type": "code",
   "execution_count": null,
   "metadata": {
    "colab": {},
    "colab_type": "code",
    "execution": {
     "iopub.execute_input": "2020-08-23T18:12:06.770358Z",
     "iopub.status.busy": "2020-08-23T18:12:06.768317Z",
     "iopub.status.idle": "2020-08-23T18:12:06.771195Z",
     "shell.execute_reply": "2020-08-23T18:12:06.771895Z"
    },
    "id": "qqcbGkBfZUEQ",
    "papermill": {
     "duration": 0.051579,
     "end_time": "2020-08-23T18:12:06.772051",
     "exception": false,
     "start_time": "2020-08-23T18:12:06.720472",
     "status": "completed"
    },
    "tags": []
   },
   "outputs": [],
   "source": [
    "#All the variables gets automatically updated when the checkpoint is restored\n",
    "#checkpoint.restore(tf.train.latest_checkpoint(checkpoint_path))"
   ]
  },
  {
   "cell_type": "code",
   "execution_count": null,
   "metadata": {
    "colab": {},
    "colab_type": "code",
    "execution": {
     "iopub.execute_input": "2020-08-23T18:12:06.869967Z",
     "iopub.status.busy": "2020-08-23T18:12:06.869091Z",
     "iopub.status.idle": "2020-08-23T18:12:07.085900Z",
     "shell.execute_reply": "2020-08-23T18:12:07.085195Z"
    },
    "id": "rUE-FA5xok3-",
    "outputId": "42e712ab-1a95-45fc-ec65-2a3c845fd088",
    "papermill": {
     "duration": 0.267996,
     "end_time": "2020-08-23T18:12:07.086031",
     "exception": false,
     "start_time": "2020-08-23T18:12:06.818035",
     "status": "completed"
    },
    "tags": []
   },
   "outputs": [
    {
     "name": "stdout",
     "output_type": "stream",
     "text": [
      "Input : <start> ¿ todavia estan en casa ? <end>\n",
      "Translation : <start> are you still at home ? <end>\n"
     ]
    },
    {
     "data": {
      "image/png": "[encoded data removed]",
      "text/plain": [
       "<Figure size 576x576 with 1 Axes>"
      ]
     },
     "metadata": {
      "needs_background": "light",
      "tags": []
     },
     "output_type": "display_data"
    },
    {
     "name": "stdout",
     "output_type": "stream",
     "text": [
      "Google Translation : Are they still at home?\n"
     ]
    }
   ],
   "source": [
    "translate(u'¿todavia estan en casa?')\n",
    "print(\"Google Translation : Are they still at home?\")"
   ]
  },
  {
   "cell_type": "code",
   "execution_count": null,
   "metadata": {
    "colab": {},
    "colab_type": "code",
    "execution": {
     "iopub.execute_input": "2020-08-23T18:12:07.194154Z",
     "iopub.status.busy": "2020-08-23T18:12:07.193217Z",
     "iopub.status.idle": "2020-08-23T18:12:07.351175Z",
     "shell.execute_reply": "2020-08-23T18:12:07.352326Z"
    },
    "id": "qMPtvMoDhtlc",
    "outputId": "fe946ee6-cf7d-485b-f552-b1662946fb0f",
    "papermill": {
     "duration": 0.208306,
     "end_time": "2020-08-23T18:12:07.352545",
     "exception": false,
     "start_time": "2020-08-23T18:12:07.144239",
     "status": "completed"
    },
    "tags": []
   },
   "outputs": [
    {
     "name": "stdout",
     "output_type": "stream",
     "text": [
      "Input : <start> ellos bailaran <end>\n",
      "Translation : <start> they ll dance . <end>\n"
     ]
    },
    {
     "data": {
      "image/png": "[encoded data removed]",
      "text/plain": [
       "<Figure size 576x576 with 1 Axes>"
      ]
     },
     "metadata": {
      "needs_background": "light",
      "tags": []
     },
     "output_type": "display_data"
    },
    {
     "name": "stdout",
     "output_type": "stream",
     "text": [
      "Google Translation : They will dance\n"
     ]
    }
   ],
   "source": [
    "translate(u'Ellos bailarán')\n",
    "print(\"Google Translation : They will dance\")"
   ]
  },
  {
   "cell_type": "code",
   "execution_count": null,
   "metadata": {
    "colab": {},
    "colab_type": "code",
    "execution": {
     "iopub.execute_input": "2020-08-23T18:12:07.476139Z",
     "iopub.status.busy": "2020-08-23T18:12:07.475008Z",
     "iopub.status.idle": "2020-08-23T18:12:07.685811Z",
     "shell.execute_reply": "2020-08-23T18:12:07.685014Z"
    },
    "id": "-RGlexeMhtlg",
    "outputId": "d4b23a61-bda1-4ac6-8506-e0790a79954d",
    "papermill": {
     "duration": 0.282956,
     "end_time": "2020-08-23T18:12:07.685983",
     "exception": false,
     "start_time": "2020-08-23T18:12:07.403027",
     "status": "completed"
    },
    "tags": []
   },
   "outputs": [
    {
     "name": "stdout",
     "output_type": "stream",
     "text": [
      "Input : <start> trata de averiguarlo . <end>\n",
      "Translation : <start> try to figure it out . <end>\n"
     ]
    },
    {
     "data": {
      "image/png": "[encoded data removed]",
      "text/plain": [
       "<Figure size 576x576 with 1 Axes>"
      ]
     },
     "metadata": {
      "needs_background": "light",
      "tags": []
     },
     "output_type": "display_data"
    },
    {
     "name": "stdout",
     "output_type": "stream",
     "text": [
      "Google Translation : try to find out.\n"
     ]
    }
   ],
   "source": [
    "translate(u'trata de averiguarlo.')\n",
    "print(\"Google Translation : try to find out.\")"
   ]
  }
 ],
 "metadata": {
  "colab": {
   "name": "NMT_Attention.ipynb",
   "provenance": []
  },
  "kernelspec": {
   "display_name": "Python 3",
   "language": "python",
   "name": "python3"
  },
  "language_info": {
   "codemirror_mode": {
    "name": "ipython",
    "version": 3
   },
   "file_extension": ".py",
   "mimetype": "text/x-python",
   "name": "python",
   "nbconvert_exporter": "python",
   "pygments_lexer": "ipython3",
   "version": "3.7.6"
  },
  "papermill": {
   "duration": 49.889166,
   "end_time": "2020-08-23T18:12:09.195089",
   "environment_variables": {},
   "exception": null,
   "input_path": "__notebook__.ipynb",
   "output_path": "__notebook__.ipynb",
   "parameters": {},
   "start_time": "2020-08-23T18:11:19.305923",
   "version": "2.1.0"
  }
 },
 "nbformat": 4,
 "nbformat_minor": 1
}
